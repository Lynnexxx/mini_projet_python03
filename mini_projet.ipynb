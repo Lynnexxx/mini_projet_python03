{
 "cells": [
  {
   "cell_type": "markdown",
   "id": "38ee14b8",
   "metadata": {},
   "source": [
    "# <center> <b> <span style=\"color:orange;\"> Project 3. Répertoire de travail </span> </b></center>\n",
    "\n",
    "### <center> <b> <span style=\"color:green;\"> Répertoire de travail</span> </b></center>\n",
    "\n",
    "\n",
    "\n",
    "\n",
    "\n",
    "\n",
    "### <left> <b> <span style=\"color:brown;\">Membres du groupe : </span> </b></left>\n",
    "### <left> <b> <span style=\"color:brown;\"> </span> </b></left>Murielle AGBAHOLOU \n",
    "### <left> <b> <span style=\"color:brown;\"> </span> </b></left>Yann OLOU \n",
    "### <left> <b> <span style=\"color:brown;\"> </span> </b></left>Andy DEGBEGNI\n",
    "### <left> <b> <span style=\"color:brown;\"> </span> </b></left>Hospice GUIDIHOUNME\n",
    "\n",
    "\n",
    ">    **Résumé du projet:** Le but de ce mini-projet est de créer un repertoire de travail pour chaque etudiant d'une filière donnée. Pour cela, le présent programme recevra deux fichers csv; l'un contenant la liste des cours suivis par les étudiants, et le second la liste des étudiants inscrits dans cette filière.\n",
    "Chaque ligne du fichier etudiant.csv aura ce format:\n",
    "    \"nom_de_letudiant, prenom_de_letudiant\"\n",
    "Celui du fichier filiere aura le format suivant:\n",
    "    \"nom de la matiere\"(chaque matière etant sur une ligne)\n",
    "    Ainsi, le repertoire \"nom_de_letudiant, prenom_de_letudiant\" contiendra des sous-répertoires, chacun d'entre eux etant nommé selon un des cours du fichiers filiere.csv\n",
    "***"
   ]
  },
  {
   "cell_type": "markdown",
   "id": "4e080f3e",
   "metadata": {},
   "source": [
    "<p>  \n",
    "Pour cela, nous aurons donc à créer deux fichiers csv: <strong>etudiant et filiere.</strong>\n",
    "    \n",
    "Voici la configuration des fichiers etudiant.csv et filiere.csv:\n",
    "</p>\n",
    "\n",
    "\n",
    "\n"
   ]
  },
  {
   "cell_type": "markdown",
   "id": "73329237",
   "metadata": {},
   "source": [
    "\n",
    "\n",
    " Fichier <span style=\"color:brown;\"> etudiant.csv </span> \n"
   ]
  },
  {
   "cell_type": "code",
   "execution_count": null,
   "id": "92905cf9",
   "metadata": {},
   "outputs": [],
   "source": [
    "\n",
    "\n",
    "AGBAHOLOU, Murielle\n",
    "OLOU, Yann\n",
    "Andy, DEGBEGNI\n",
    "Hospice, GUIDIHOUNME\n",
    "\n"
   ]
  },
  {
   "cell_type": "markdown",
   "id": "2bf4efd6",
   "metadata": {},
   "source": [
    "\n",
    "\n",
    " Fichier <span style=\"color:brown;\"> filiere.csv </span> \n"
   ]
  },
  {
   "cell_type": "markdown",
   "id": "5f691393",
   "metadata": {},
   "source": [
    "Calcul matriciel\n",
    "Structures de données avancées\n",
    "Statistiques\n",
    "Systèmes d'exploitation\n",
    "Langage C\n",
    "   "
   ]
  },
  {
   "cell_type": "markdown",
   "id": "2bd5cdb5",
   "metadata": {},
   "source": [
    "<p>  Le langage <strong>Python </strong> propose assez de modules implémentant des fonctions facilitant la manipulation des fichiers. Parmi la panoplie de modules présents, notre projet nous impose donc d'inclure les modules <strong>os </strong> et <strong>csv </strong>     \n",
    "  </p>"
   ]
  },
  {
   "cell_type": "markdown",
   "id": "d9cce816",
   "metadata": {},
   "source": [
    "Le module csv implémente des classes pour lire et écrire des données tabulaires au format CSV. \n",
    "Il permet de dire « écris ces données dans le format préféré par Excel » ou « lis les données de ce fichier généré par Excel », sans connaître les détails précis du format CSV utilisé par Excel. Vous pouvez aussi décrire les formats CSV utilisés par d'autres application ou définir vos propres spécialisations."
   ]
  },
  {
   "cell_type": "markdown",
   "id": "8f6f10e0",
   "metadata": {},
   "source": [
    "La première étape consiste à obtenir les objets fichiers.csv à partir desquels seront créés les repertoires.\n",
    "La façon de le faire est d'utiliser la open function.\n",
    "Le format est:\n",
    "file_object = open(filename, mode='r', buffering=-1, encoding=None, errors=None, newline=None, closefd=True, opener=None) \n"
   ]
  },
  {
   "cell_type": "code",
   "execution_count": null,
   "id": "72b23361",
   "metadata": {},
   "outputs": [],
   "source": [
    "file_object est le nom de la variable dans laquelle mettre le retour de la fonction open, \n",
    "filename est une chaîne de caractères avec le nom du fichier à ouvrir\n",
    "mode est le mode dans lequel ouvrir le fichier:\n",
    "\"rt\" pour read, lire un fichier en tant que texte\n",
    "\"wt\" pour write  écrire un fichier en tant que texte\n",
    "\n",
    "#Vous obtiendrez plus de détails en faisant appel à l'aide(help(open))... "
   ]
  },
  {
   "cell_type": "markdown",
   "id": "f69196fd",
   "metadata": {},
   "source": [
    " La seconde étape consiste à créer deux listes, une liste Etudiant pour récupérer chaque ligne du fichier etudiant.csv et une liste Filiere pour récupérer chaque ligne du fichier filiere.csv.\n",
    "\n",
    "Ps:Il faudra veiller au respect des formats exigés!!"
   ]
  },
  {
   "cell_type": "markdown",
   "id": "43dea4c0",
   "metadata": {},
   "source": [
    "Enfin, les répertoires seront créés, s'ils n'existent pas, grâce à makedirs du module os"
   ]
  },
  {
   "cell_type": "markdown",
   "id": "603f6bf6",
   "metadata": {},
   "source": [
    "Voici une proposition de code répondant aux exigences sus-citées"
   ]
  },
  {
   "cell_type": "code",
   "execution_count": 34,
   "id": "b46031a9",
   "metadata": {},
   "outputs": [
    {
     "name": "stdout",
     "output_type": "stream",
     "text": [
      "['AGBAHOLOU, Murielle', 'OLOU, Yann', 'DEGBEGNI, Andy', 'GUIDIHOUNME, Hospice', 'OLOU, Yann', 'AGBAHOLOU, Murielle']\n",
      "['AGBAHOLOU, Murielle', 'OLOU, Yann', 'DEGBEGNI, Andy', 'GUIDIHOUNME, Hospice', 'OLOU, Yann_1', 'AGBAHOLOU, Murielle_1']\n"
     ]
    }
   ],
   "source": [
    "import csv # Permet de gérer les fichiers .csv\n",
    "import os # Permet de lancer des appels systeme\n",
    "\n",
    "etudiant, filiere = open('etudiant.csv', newline='', encoding='utf-8'), open('filiere.csv', newline='', encoding='utf-8')\n",
    "Etudiant = []\n",
    "Filiere = []\n",
    "ite = 0\n",
    "reader = csv.reader(filiere)#Chaque ligne lue depuis le fichier .csv est renvoyée comme une liste de chaînes de caractères\n",
    "for row in reader:\n",
    "    Filiere.append(row[0])#Chacune des lignes renvoyées sous forme de chaines de caractères seront ajoutées à la liste\n",
    "reader = csv.reader(etudiant)\n",
    "for row in reader:\n",
    "    Etudiant.append(row)\n",
    "\n",
    "    \n",
    "for i in range(len(Etudiant)):\n",
    "    Etudiant[i] = Etudiant[i][0]+','+Etudiant[i][1]\n",
    "\n",
    "for i in range(len(Etudiant)):# Au cas où il y a des étudiants dans la liste qui ont les mêmes noms on ajoute '_' la valeur de ite a la fin afin de pouvoir créer le répectoire pour eux\n",
    "    ite=0\n",
    "    for j in range(len(Etudiant)):\n",
    "        if Etudiant[i] == Etudiant[j] and i!=j:\n",
    "            ite+=1\n",
    "            Etudiant[j] = Etudiant[j]+'_'+str(ite)\n",
    "\n",
    "for i in range(len(Etudiant)):\n",
    "    for j in range(len(Filiere)):\n",
    "        if not os.path.exists('./Filiere/AIMS_Senegal/'+Etudiant[i]+'/'+Filiere[j]+'/'):#La méthode path.exists() vérifie si le chemin donné existe et renvoie True s’il existe et False dans le cas contraire.\n",
    "            os.makedirs('./Filiere/AIMS_Senegal/'+Etudiant[i]+'/'+Filiere[j]+'/')# La méthode makedirs() prend le chemin comme entrée et crée les répertoires intermédiaires manquants dans le chemin.\n",
    "            open('./Filiere/AIMS_Senegal/'+Etudiant[i]+'/'+Filiere[j]+'/index.txt', mode='wt' )#génération du fichier index.txt"
   ]
  },
  {
   "cell_type": "code",
   "execution_count": null,
   "id": "50612024",
   "metadata": {},
   "outputs": [],
   "source": []
  }
 ],
 "metadata": {
  "kernelspec": {
   "display_name": "Python 3",
   "language": "python",
   "name": "python3"
  },
  "language_info": {
   "codemirror_mode": {
    "name": "ipython",
    "version": 3
   },
   "file_extension": ".py",
   "mimetype": "text/x-python",
   "name": "python",
   "nbconvert_exporter": "python",
   "pygments_lexer": "ipython3",
   "version": "3.8.5"
  }
 },
 "nbformat": 4,
 "nbformat_minor": 5
}
